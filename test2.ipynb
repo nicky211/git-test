{
 "cells": [
  {
   "cell_type": "markdown",
   "id": "39db7a16",
   "metadata": {},
   "source": [
    "123"
   ]
  }
 ],
 "metadata": {
  "language_info": {
   "name": "python"
  }
 },
 "nbformat": 4,
 "nbformat_minor": 5
}
